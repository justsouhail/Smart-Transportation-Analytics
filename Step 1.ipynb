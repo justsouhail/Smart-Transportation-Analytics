{
 "cells": [
  {
   "cell_type": "code",
   "execution_count": 13,
   "id": "2a09a08e",
   "metadata": {},
   "outputs": [],
   "source": [
    "import pandas as pd\n",
    "import seaborn as sns\n",
    "import missingno as mi\n",
    "import matplotlib.pyplot as plt\n",
    "import csv\n",
    "import json"
   ]
  },
  {
   "cell_type": "code",
   "execution_count": null,
   "id": "67229980",
   "metadata": {},
   "outputs": [],
   "source": []
  },
  {
   "cell_type": "code",
   "execution_count": 14,
   "id": "e761db25",
   "metadata": {},
   "outputs": [],
   "source": [
    "df = pd.read_csv(\"NYC_data.csv\", sep=';')"
   ]
  },
  {
   "cell_type": "code",
   "execution_count": 15,
   "id": "d327f173",
   "metadata": {},
   "outputs": [],
   "source": [
    "data={\"maxResponseWantedAt\": \"2021-02-06T14:17:27.810870+00:09\",\"mapName\": \"test\", \"orders\": []}"
   ]
  },
  {
   "cell_type": "code",
   "execution_count": 16,
   "id": "d3fe81fb",
   "metadata": {},
   "outputs": [],
   "source": [
    "def timeConstraintString(date, hour):\n",
    "    # this function is used to formate and return the time constrainte string.     \n",
    "    tmp = date.split(\"/\")\n",
    "    resultString = f\"{tmp[2]}-{tmp[1]}-{tmp[0]}T{hour}+00:09\"\n",
    "    return resultString\n",
    "\n",
    "def extractHourFromTimeConstraint(Tconstrainte):\n",
    "    # this function extracts the hour and minute from a time constraint string.\n",
    "    return Tconstrainte[11:16]"
   ]
  },
  {
   "cell_type": "code",
   "execution_count": 17,
   "id": "b3f3fa90",
   "metadata": {},
   "outputs": [],
   "source": [
    "for index, row in df.iterrows():\n",
    "    dic={\n",
    "        \"id\": row[\"id_commande\"],\n",
    "        \"pax\": row[\"nbPax\"],\n",
    "        \"pickUp\": {\n",
    "        \"lat\": row[\"pickup_lat\"],\n",
    "        \"lng\": row[\"pickup_lng\"]\n",
    "        },\n",
    "        \"dropOff\": {\n",
    "            \"lat\": row[\"dropoff_lat\"],\n",
    "            \"lng\": row[\"dropoff_lng\"]\n",
    "        },\n",
    "        \"timeConstraint\": {\n",
    "          \"type\": \"pickUpMinDateTime\",\n",
    "          \"value\": timeConstraintString(row[\"date\"], row[\"heure_de_depart\"])\n",
    "        }\n",
    "    }\n",
    "    data[\"orders\"].append(dic)\n",
    "\n",
    "tmpData = {\"maxResponseWantedAt\": \"2021-02-06T14:17:27.810870+00:09\",\"mapName\": \"test\", \"orders\": []}\n",
    "hour = \"00:00\"\n",
    "for obj in data[\"orders\"]:\n",
    "    ts = extractHourFromTimeConstraint(obj[\"timeConstraint\"][\"value\"])\n",
    "    if ts == hour:\n",
    "        tmpData[\"orders\"].append(obj)\n",
    "    else:\n",
    "        hourSplited = hour.split(\":\")\n",
    "        filename = f\"NYCData_{hourSplited[0]}h{hourSplited[1]}.json\"\n",
    "        with open(filename, 'w') as fp:\n",
    "            json_dumps_str = json.dumps(tmpData, indent=2)\n",
    "            print(json_dumps_str, file=fp)\n",
    "        hour = ts\n",
    "        tmpData[\"orders\"] = []\n",
    "        tmpData[\"orders\"].append(obj)\n",
    "\n",
    "hour = \"00:40\"\n",
    "hourSplited = hour.split(\":\")\n",
    "filename = f\"NYCData_{hourSplited[0]}h{hourSplited[1]}.json\"\n",
    "\n",
    "with open(filename, 'w') as fp:\n",
    "    json_dumps_str = json.dumps(tmpData, indent=2)\n",
    "    print(json_dumps_str, file=fp)\n",
    "        "
   ]
  },
  {
   "cell_type": "code",
   "execution_count": null,
   "id": "06416432",
   "metadata": {},
   "outputs": [],
   "source": []
  }
 ],
 "metadata": {
  "kernelspec": {
   "display_name": "Python 3 (ipykernel)",
   "language": "python",
   "name": "python3"
  },
  "language_info": {
   "codemirror_mode": {
    "name": "ipython",
    "version": 3
   },
   "file_extension": ".py",
   "mimetype": "text/x-python",
   "name": "python",
   "nbconvert_exporter": "python",
   "pygments_lexer": "ipython3",
   "version": "3.11.5"
  }
 },
 "nbformat": 4,
 "nbformat_minor": 5
}
