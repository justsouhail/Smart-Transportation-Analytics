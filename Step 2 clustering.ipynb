{
 "cells": [
  {
   "cell_type": "code",
   "execution_count": 14,
   "id": "02cec786",
   "metadata": {},
   "outputs": [],
   "source": [
    "import numpy as np\n",
    "import pandas as pd\n",
    "import scipy.cluster.hierarchy as sc #dendogramme\n",
    "from sklearn.cluster import AgglomerativeClustering    #clustering module\n",
    "import matplotlib.pyplot as plt\n",
    "import folium\n",
    "import json"
   ]
  },
  {
   "cell_type": "code",
   "execution_count": 15,
   "id": "0aafe094",
   "metadata": {},
   "outputs": [
    {
     "data": {
      "text/html": [
       "<div>\n",
       "<style scoped>\n",
       "    .dataframe tbody tr th:only-of-type {\n",
       "        vertical-align: middle;\n",
       "    }\n",
       "\n",
       "    .dataframe tbody tr th {\n",
       "        vertical-align: top;\n",
       "    }\n",
       "\n",
       "    .dataframe thead th {\n",
       "        text-align: right;\n",
       "    }\n",
       "</style>\n",
       "<table border=\"1\" class=\"dataframe\">\n",
       "  <thead>\n",
       "    <tr style=\"text-align: right;\">\n",
       "      <th></th>\n",
       "      <th>maxResponseWantedAt</th>\n",
       "      <th>mapName</th>\n",
       "      <th>orders</th>\n",
       "    </tr>\n",
       "  </thead>\n",
       "  <tbody>\n",
       "    <tr>\n",
       "      <th>0</th>\n",
       "      <td>2021-02-06T14:17:27.810870+00:09</td>\n",
       "      <td>test</td>\n",
       "      <td>{'id': 'cmd1', 'pax': 1, 'pickUp': {'lat': 40....</td>\n",
       "    </tr>\n",
       "    <tr>\n",
       "      <th>1</th>\n",
       "      <td>2021-02-06T14:17:27.810870+00:09</td>\n",
       "      <td>test</td>\n",
       "      <td>{'id': 'cmd2', 'pax': 1, 'pickUp': {'lat': 40....</td>\n",
       "    </tr>\n",
       "    <tr>\n",
       "      <th>2</th>\n",
       "      <td>2021-02-06T14:17:27.810870+00:09</td>\n",
       "      <td>test</td>\n",
       "      <td>{'id': 'cmd3', 'pax': 2, 'pickUp': {'lat': 40....</td>\n",
       "    </tr>\n",
       "    <tr>\n",
       "      <th>3</th>\n",
       "      <td>2021-02-06T14:17:27.810870+00:09</td>\n",
       "      <td>test</td>\n",
       "      <td>{'id': 'cmd4', 'pax': 4, 'pickUp': {'lat': 40....</td>\n",
       "    </tr>\n",
       "    <tr>\n",
       "      <th>4</th>\n",
       "      <td>2021-02-06T14:17:27.810870+00:09</td>\n",
       "      <td>test</td>\n",
       "      <td>{'id': 'cmd5', 'pax': 3, 'pickUp': {'lat': 40....</td>\n",
       "    </tr>\n",
       "    <tr>\n",
       "      <th>...</th>\n",
       "      <td>...</td>\n",
       "      <td>...</td>\n",
       "      <td>...</td>\n",
       "    </tr>\n",
       "    <tr>\n",
       "      <th>90</th>\n",
       "      <td>2021-02-06T14:17:27.810870+00:09</td>\n",
       "      <td>test</td>\n",
       "      <td>{'id': 'cmd91', 'pax': 1, 'pickUp': {'lat': 40...</td>\n",
       "    </tr>\n",
       "    <tr>\n",
       "      <th>91</th>\n",
       "      <td>2021-02-06T14:17:27.810870+00:09</td>\n",
       "      <td>test</td>\n",
       "      <td>{'id': 'cmd92', 'pax': 1, 'pickUp': {'lat': 40...</td>\n",
       "    </tr>\n",
       "    <tr>\n",
       "      <th>92</th>\n",
       "      <td>2021-02-06T14:17:27.810870+00:09</td>\n",
       "      <td>test</td>\n",
       "      <td>{'id': 'cmd93', 'pax': 1, 'pickUp': {'lat': 40...</td>\n",
       "    </tr>\n",
       "    <tr>\n",
       "      <th>93</th>\n",
       "      <td>2021-02-06T14:17:27.810870+00:09</td>\n",
       "      <td>test</td>\n",
       "      <td>{'id': 'cmd94', 'pax': 4, 'pickUp': {'lat': 40...</td>\n",
       "    </tr>\n",
       "    <tr>\n",
       "      <th>94</th>\n",
       "      <td>2021-02-06T14:17:27.810870+00:09</td>\n",
       "      <td>test</td>\n",
       "      <td>{'id': 'cmd95', 'pax': 1, 'pickUp': {'lat': 40...</td>\n",
       "    </tr>\n",
       "  </tbody>\n",
       "</table>\n",
       "<p>95 rows × 3 columns</p>\n",
       "</div>"
      ],
      "text/plain": [
       "                 maxResponseWantedAt mapName  \\\n",
       "0   2021-02-06T14:17:27.810870+00:09    test   \n",
       "1   2021-02-06T14:17:27.810870+00:09    test   \n",
       "2   2021-02-06T14:17:27.810870+00:09    test   \n",
       "3   2021-02-06T14:17:27.810870+00:09    test   \n",
       "4   2021-02-06T14:17:27.810870+00:09    test   \n",
       "..                               ...     ...   \n",
       "90  2021-02-06T14:17:27.810870+00:09    test   \n",
       "91  2021-02-06T14:17:27.810870+00:09    test   \n",
       "92  2021-02-06T14:17:27.810870+00:09    test   \n",
       "93  2021-02-06T14:17:27.810870+00:09    test   \n",
       "94  2021-02-06T14:17:27.810870+00:09    test   \n",
       "\n",
       "                                               orders  \n",
       "0   {'id': 'cmd1', 'pax': 1, 'pickUp': {'lat': 40....  \n",
       "1   {'id': 'cmd2', 'pax': 1, 'pickUp': {'lat': 40....  \n",
       "2   {'id': 'cmd3', 'pax': 2, 'pickUp': {'lat': 40....  \n",
       "3   {'id': 'cmd4', 'pax': 4, 'pickUp': {'lat': 40....  \n",
       "4   {'id': 'cmd5', 'pax': 3, 'pickUp': {'lat': 40....  \n",
       "..                                                ...  \n",
       "90  {'id': 'cmd91', 'pax': 1, 'pickUp': {'lat': 40...  \n",
       "91  {'id': 'cmd92', 'pax': 1, 'pickUp': {'lat': 40...  \n",
       "92  {'id': 'cmd93', 'pax': 1, 'pickUp': {'lat': 40...  \n",
       "93  {'id': 'cmd94', 'pax': 4, 'pickUp': {'lat': 40...  \n",
       "94  {'id': 'cmd95', 'pax': 1, 'pickUp': {'lat': 40...  \n",
       "\n",
       "[95 rows x 3 columns]"
      ]
     },
     "execution_count": 15,
     "metadata": {},
     "output_type": "execute_result"
    }
   ],
   "source": [
    "df = pd.read_json(\"NYCData_00h00.json\")\n",
    "df"
   ]
  },
  {
   "cell_type": "code",
   "execution_count": 16,
   "id": "612f63b3",
   "metadata": {
    "scrolled": true
   },
   "outputs": [
    {
     "name": "stdout",
     "output_type": "stream",
     "text": [
      "[[40.76088, -73.99078399999999], [40.729988, -73.989616], [40.767632, -73.981575], [40.737343, -74.00052600000001], [40.781887, -73.955925], [40.743343, -73.99987800000001], [40.758041, -73.98984499999999], [40.773769, -73.870834], [40.723797, -74.006218], [40.75919, -73.976761], [40.778343, -73.95411700000001], [40.719387, -74.00173199999999], [40.744263, -73.985603], [40.739567, -73.99613199999999], [40.733986, -73.99295], [40.753723, -73.984871], [40.794228, -73.970512], [40.760181, -73.987488], [40.755333, -73.998581], [40.739651, -74.006355], [40.725121, -74.002998], [40.751236, -73.98670200000001], [40.797359, -73.969841], [40.758945, -73.992195], [40.807728, -73.929344], [40.796532, -73.970428], [40.721516, -73.99781], [40.773106, -73.989349], [40.716721, -74.008217], [40.722606999999996, -73.98613], [40.760178, -73.991325], [40.781349, -73.946136], [40.79314, -73.973], [40.734997, -73.990608], [40.779728000000006, -73.955383], [40.760185, -73.995056], [40.706432, -74.00975], [40.756966, -73.982605], [40.695587, -73.991821], [40.716976, -73.956528], [40.778755, -73.951073], [40.773914000000005, -73.87116999999999], [40.781693, -73.975723], [40.741268, -73.989189], [40.717007, -73.956512], [40.741291, -73.9785], [40.734318, -74.00267], [40.733982, -73.989029], [40.719444, -73.95599399999999], [40.725124, -73.99221], [40.740398, -73.979179], [40.732185, -73.996643], [40.718876, -73.988739], [40.752232, -73.993736], [40.749657, -73.975441], [40.717785, -73.957649], [40.768826, -73.982323], [40.737839, -73.996498], [40.756153000000005, -73.967804], [40.726166, -74.005646], [40.725468, -74.000221], [40.768005, -73.9701], [40.752064, -73.993385], [40.769863, -73.980583], [40.771011, -73.865562], [40.711506, -74.00752299999999], [40.724018, -73.98786899999999], [40.748310000000004, -73.989082], [40.657207, -73.794617], [40.752754, -74.00431800000001], [40.744717, -73.989182], [40.731087, -73.988762], [40.775673, -73.960243], [40.712013, -74.006332], [40.765018, -73.96106], [40.742157, -73.982964], [40.756458, -73.99427], [40.720531, -74.005165], [40.74432, -73.979073], [40.746944, -74.004631], [40.786572, -73.952362], [40.745548, -73.978264], [40.718227, -73.994049], [40.739258, -73.995285], [40.729378, -74.001671], [40.746178, -73.979378], [40.764046, -73.988571], [40.792675, -73.975189], [40.738564, -73.990135], [40.750771, -73.940376], [40.768738, -73.981392], [40.783962, -73.977699], [40.767467, -73.96264599999999], [40.770851, -73.865967], [40.738949, -73.982956]]\n"
     ]
    }
   ],
   "source": [
    "data= []\n",
    "arr = df.values\n",
    "\n",
    "def extract_coordinates(orders):\n",
    "    for order in orders:\n",
    "           data.append([order[2]['pickUp']['lat'], order[2]['pickUp']['lng']])\n",
    "\n",
    "extract_coordinates(arr)\n",
    "print(data)"
   ]
  },
  {
   "cell_type": "code",
   "execution_count": 17,
   "id": "a152c1c0",
   "metadata": {},
   "outputs": [
    {
     "data": {
      "image/png": "[encoded data removed]",
      "text/plain": [
       "<Figure size 640x480 with 1 Axes>"
      ]
     },
     "metadata": {},
     "output_type": "display_data"
    }
   ],
   "source": [
    "dendo = sc.dendrogram(sc.linkage(data,method = 'ward'))"
   ]
  },
  {
   "cell_type": "code",
   "execution_count": 18,
   "id": "dab507c9",
   "metadata": {},
   "outputs": [],
   "source": [
    "hca = AgglomerativeClustering(n_clusters=5 , metric= 'euclidean' , linkage= 'ward')\n",
    "y_hca = hca.fit_predict(data)"
   ]
  },
  {
   "cell_type": "code",
   "execution_count": 19,
   "id": "c413d062",
   "metadata": {
    "scrolled": true
   },
   "outputs": [
    {
     "data": {
      "text/plain": [
       "array([1, 0, 1, 0, 2, 0, 1, 4, 0, 1, 2, 0, 1, 0, 0, 1, 2, 1, 1, 0, 0, 1,\n",
       "       2, 1, 2, 2, 0, 1, 0, 0, 1, 2, 2, 0, 2, 1, 0, 1, 0, 0, 2, 4, 2, 1,\n",
       "       0, 1, 0, 0, 0, 0, 1, 0, 0, 1, 1, 0, 1, 0, 2, 0, 0, 2, 1, 1, 4, 0,\n",
       "       0, 1, 3, 0, 1, 0, 2, 0, 2, 1, 1, 0, 1, 0, 2, 1, 0, 0, 0, 1, 1, 2,\n",
       "       1, 2, 1, 2, 2, 4, 1], dtype=int64)"
      ]
     },
     "execution_count": 19,
     "metadata": {},
     "output_type": "execute_result"
    }
   ],
   "source": [
    "y_hca"
   ]
  },
  {
   "cell_type": "code",
   "execution_count": 20,
   "id": "ee3540e3",
   "metadata": {},
   "outputs": [],
   "source": [
    "arr0 = np"
   ]
  },
  {
   "cell_type": "code",
   "execution_count": 21,
   "id": "8bd6d477",
   "metadata": {},
   "outputs": [
    {
     "data": {
      "text/plain": [
       "array([40.781887, 40.778343, 40.794228, 40.797359, 40.807728, 40.796532,\n",
       "       40.781349, 40.79314 , 40.779728, 40.778755, 40.781693, 40.756153,\n",
       "       40.768005, 40.775673, 40.765018, 40.786572, 40.792675, 40.750771,\n",
       "       40.783962, 40.767467])"
      ]
     },
     "execution_count": 21,
     "metadata": {},
     "output_type": "execute_result"
    }
   ],
   "source": [
    "array = np.array(data)\n",
    "array[y_hca == 2, 0]"
   ]
  },
  {
   "cell_type": "code",
   "execution_count": 22,
   "id": "9a134d0e",
   "metadata": {},
   "outputs": [
    {
     "data": {
      "text/plain": [
       "<matplotlib.legend.Legend at 0x255eab3f110>"
      ]
     },
     "execution_count": 22,
     "metadata": {},
     "output_type": "execute_result"
    },
    {
     "data": {
      "image/png": "[encoded data removed]",
      "text/plain": [
       "<Figure size 640x480 with 1 Axes>"
      ]
     },
     "metadata": {},
     "output_type": "display_data"
    }
   ],
   "source": [
    "plt.scatter(array[y_hca == 0,0] , array[y_hca == 0,1] , s=100 , c = 'pink' , label = 'Cluster 1' )\n",
    "plt.scatter(array[y_hca == 1,0] , array[y_hca == 1,1] , s=100 , c = 'blue' , label = 'Cluster 2' )\n",
    "plt.scatter(array[y_hca == 2,0] , array[y_hca == 2,1] , s=100 , c = 'gray' , label = 'Cluster 3' )\n",
    "plt.scatter(array[y_hca == 3,0] , array[y_hca == 3,1] , s=100 , c = 'yellow' , label = 'Cluster 4' )\n",
    "plt.title('clusters')\n",
    "plt.xlabel('lng')\n",
    "plt.ylabel('lag ')\n",
    "plt.legend()"
   ]
  },
  {
   "cell_type": "code",
   "execution_count": 23,
   "id": "3429b532",
   "metadata": {},
   "outputs": [],
   "source": [
    "mymap = folium.Map(location=[40.7128, -74.0060], zoom_start=7)\n",
    "cluster_colors = ['blue', 'pink', 'gray', 'red']"
   ]
  },
  {
   "cell_type": "code",
   "execution_count": 24,
   "id": "31ee2786",
   "metadata": {},
   "outputs": [],
   "source": [
    "clusters = [0, 1, 2, 3]\n",
    "for cluster in clusters:\n",
    "    for point in array[y_hca == cluster]:\n",
    "        folium.Marker(location=point, icon=folium.Icon(color=cluster_colors[cluster])).add_to(mymap)"
   ]
  },
  {
   "cell_type": "code",
   "execution_count": 25,
   "id": "66f7b720",
   "metadata": {},
   "outputs": [],
   "source": [
    "mymap.save(\"my_map.html\")"
   ]
  },
  {
   "cell_type": "code",
   "execution_count": 26,
   "id": "ec75666f",
   "metadata": {},
   "outputs": [],
   "source": [
    "# save the orders of cluster 2 into a json file\n",
    "\n",
    "tmpData = []\n",
    "\n",
    "def extract_full_coordinates(orders):\n",
    "    for order in orders:\n",
    "           tmpData.append({'id': order[2]['id'],'pickLat': order[2]['pickUp']['lat'], 'pickLng': order[2]['pickUp']['lng'], 'dropLat': order[2]['dropOff']['lat'], 'dropLng': order[2]['dropOff']['lng']})\n",
    "extract_full_coordinates(arr[y_hca == 2,])\n",
    "\n",
    "#print(tmpData)\n",
    "\n",
    "filename = f\"NYCData_00h00_cluster_2.json\"\n",
    "\n",
    "with open(filename, 'w') as fp:\n",
    "    json_dumps_str = json.dumps(tmpData, indent=2)\n",
    "    print(json_dumps_str, file=fp)"
   ]
  },
  {
   "cell_type": "code",
   "execution_count": null,
   "id": "4654bdd9",
   "metadata": {},
   "outputs": [],
   "source": []
  },
  {
   "cell_type": "code",
   "execution_count": null,
   "id": "da5ae187",
   "metadata": {},
   "outputs": [],
   "source": []
  },
  {
   "cell_type": "code",
   "execution_count": null,
   "id": "3e7c644a",
   "metadata": {},
   "outputs": [],
   "source": []
  }
 ],
 "metadata": {
  "kernelspec": {
   "display_name": "Python 3 (ipykernel)",
   "language": "python",
   "name": "python3"
  },
  "language_info": {
   "codemirror_mode": {
    "name": "ipython",
    "version": 3
   },
   "file_extension": ".py",
   "mimetype": "text/x-python",
   "name": "python",
   "nbconvert_exporter": "python",
   "pygments_lexer": "ipython3",
   "version": "3.11.5"
  }
 },
 "nbformat": 4,
 "nbformat_minor": 5
}
